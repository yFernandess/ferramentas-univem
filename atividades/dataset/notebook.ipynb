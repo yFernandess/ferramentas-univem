{
 "cells": [
  {
   "cell_type": "markdown",
   "metadata": {
    "collapsed": false
   },
   "source": [
    "## Imports"
   ]
  },
  {
   "cell_type": "code",
   "execution_count": 14,
   "metadata": {
    "collapsed": false
   },
   "outputs": [
   ],
   "source": [
    "import pandas as pd"
   ]
  },
  {
   "cell_type": "markdown",
   "metadata": {
    "collapsed": false
   },
   "source": [
    "## File read"
   ]
  },
  {
   "cell_type": "code",
   "execution_count": 15,
   "metadata": {
    "collapsed": false
   },
   "outputs": [
   ],
   "source": [
    "dataset = pd.read_csv(r'dataset.csv')"
   ]
  },
  {
   "cell_type": "markdown",
   "metadata": {
    "collapsed": false
   },
   "source": [
    "## Presença da praga"
   ]
  },
  {
   "cell_type": "code",
   "execution_count": 16,
   "metadata": {
    "collapsed": false
   },
   "outputs": [
    {
     "data": {
      "text/plain": [
       "291"
      ]
     },
     "execution_count": 16,
     "metadata": {
     },
     "output_type": "execute_result"
    }
   ],
   "source": [
    "dataset.loc[dataset['PERCEVEJO'] > 0].count()['PERCEVEJO']"
   ]
  },
  {
   "cell_type": "markdown",
   "metadata": {
    "collapsed": false
   },
   "source": [
    "## Ausência da praga"
   ]
  },
  {
   "cell_type": "code",
   "execution_count": 17,
   "metadata": {
    "collapsed": false
   },
   "outputs": [
    {
     "data": {
      "text/plain": [
       "309"
      ]
     },
     "execution_count": 17,
     "metadata": {
     },
     "output_type": "execute_result"
    }
   ],
   "source": [
    "dataset.loc[dataset['PERCEVEJO'] == 0].count()['PERCEVEJO']"
   ]
  },
  {
   "cell_type": "markdown",
   "metadata": {
    "collapsed": false
   },
   "source": [
    "## Group by"
   ]
  },
  {
   "cell_type": "code",
   "execution_count": 18,
   "metadata": {
    "collapsed": false
   },
   "outputs": [
    {
     "data": {
      "text/plain": [
       "PERCEVEJO\n",
       "0     309\n",
       "1     128\n",
       "2      77\n",
       "3      39\n",
       "4      23\n",
       "5      10\n",
       "6       9\n",
       "7       4\n",
       "10      1\n",
       "Name: PERCEVEJO, dtype: int64"
      ]
     },
     "execution_count": 18,
     "metadata": {
     },
     "output_type": "execute_result"
    }
   ],
   "source": [
    "dataset.groupby(['PERCEVEJO'])['PERCEVEJO'].count()"
   ]
  },
  {
   "cell_type": "markdown",
   "metadata": {
    "collapsed": false
   },
   "source": [
    "## Sample dataset"
   ]
  },
  {
   "cell_type": "code",
   "execution_count": 75,
   "metadata": {
    "collapsed": false
   },
   "outputs": [
    {
     "name": "stdout",
     "output_type": "stream",
     "text": [
      "    PERCEVEJO\n",
      "1           4\n",
      "2           1\n",
      "4           4\n",
      "5           3\n",
      "6           3\n",
      "0           0\n",
      "3           0\n",
      "7           0\n",
      "8           0\n",
      "14          0\n"
     ]
    }
   ],
   "source": [
    "dataset_presenca = dataset.loc[dataset['PERCEVEJO'] > 0][['PERCEVEJO']].copy()\n",
    "dataset_ausencia = dataset.loc[dataset['PERCEVEJO'] == 0][['PERCEVEJO']].copy()\n",
    "\n",
    "final_dataset = pd.concat([dataset_presenca[5:], dataset_ausencia[5:]])\n",
    "sample_dataset = pd.concat([dataset_presenca[:5], dataset_ausencia[:5]])\n",
    "\n",
    "print(sample_dataset)\n"
   ]
  },
  {
   "cell_type": "markdown",
   "metadata": {
    "collapsed": false
   },
   "source": [
    "## Balance dataset"
   ]
  },
  {
   "cell_type": "code",
   "execution_count": 74,
   "metadata": {
    "collapsed": false
   },
   "outputs": [
    {
     "name": "stdout",
     "output_type": "stream",
     "text": [
      "     PERCEVEJO\n",
      "9            2\n",
      "10           6\n",
      "11           1\n",
      "12           2\n",
      "13           1\n",
      "..         ...\n",
      "593          2\n",
      "594          2\n",
      "597          2\n",
      "598          1\n",
      "599          4\n",
      "\n",
      "[286 rows x 1 columns]\n",
      "     PERCEVEJO\n",
      "87           0\n",
      "88           0\n",
      "89           0\n",
      "95           0\n",
      "100          0\n",
      "..         ...\n",
      "589          0\n",
      "591          0\n",
      "592          0\n",
      "595          0\n",
      "596          0\n",
      "\n",
      "[286 rows x 1 columns]\n"
     ]
    }
   ],
   "source": [
    "dataset_presenca = final_dataset.loc[dataset['PERCEVEJO'] > 0][['PERCEVEJO']].copy()\n",
    "dataset_ausencia = final_dataset.loc[dataset['PERCEVEJO'] == 0][['PERCEVEJO']].copy()\n",
    "\n",
    "diff = len(dataset_ausencia) - len(dataset_presenca)\n",
    "\n",
    "if diff > 0:\n",
    "    dataset_ausencia = dataset_ausencia.drop(dataset_ausencia.index[range(diff)])\n",
    "else:\n",
    "    dataset_presenca = dataset_presenca.drop(dataset_presenca.index[range(diff)])\n",
    "\n",
    "print(dataset_presenca)\n",
    "print(dataset_ausencia)"
   ]
  }
 ],
 "metadata": {
  "kernelspec": {
   "display_name": "Python 3 (system-wide)",
   "language": "python",
   "metadata": {
    "cocalc": {
     "description": "Python 3 programming language",
     "priority": 100,
     "url": "https://www.python.org/"
    }
   },
   "name": "python3",
   "resource_dir": "/ext/jupyter/kernels/python3"
  },
  "language_info": {
   "codemirror_mode": {
    "name": "ipython",
    "version": 3
   },
   "file_extension": ".py",
   "mimetype": "text/x-python",
   "name": "python",
   "nbconvert_exporter": "python",
   "pygments_lexer": "ipython3",
   "version": "3.8.10"
  }
 },
 "nbformat": 4,
 "nbformat_minor": 4
}